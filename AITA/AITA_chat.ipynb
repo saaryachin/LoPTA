{
 "cells": [
  {
   "cell_type": "code",
   "execution_count": null,
   "id": "2bb141bb-c4cf-4c23-89de-98247c05dd14",
   "metadata": {},
   "outputs": [],
   "source": [
    "import sys\n",
    "import os\n",
    "sys.path.append(os.path.abspath(\"..\"))\n",
    "from openai import OpenAI\n",
    "from AITA import AITA_utils\n",
    "\n",
    "try:\n",
    "    base_path = os.path.dirname(__file__)              # getting the file paths when running in CLI \n",
    "except NameError:\n",
    "    base_path = os.getcwd()                            # getting the file paths when running in Jupyter Notebooks\n",
    "\n",
    "aita_key_path = os.path.join(base_path, \"openai_key.txt\")\n",
    "\n",
    "def aichat(parsed_log_path, gptmodel, write_report=False):\n",
    "     \n",
    "    # Get the API Key, in order: 1. environmental, 2. file, 3. input\n",
    "\n",
    "    if \"OPENAI_API_KEY\" in os.environ:\n",
    "        openai_key = os.environ[\"OPENAI_API_KEY\"]\n",
    "    elif os.path.exists(aita_key_path):\n",
    "        with open(aita_key_path) as openai_key_file:\n",
    "            openai_key = openai_key_file.read()\n",
    "    else:\n",
    "        openai_key=input(\"Enter OpenAI API Key: \")\n",
    "    \n",
    "    client = OpenAI(api_key=openai_key)\n",
    "\n",
    "    prompt = AITA_utils.generate_prompt(parsed_log_path, write_report)\n",
    "    \n",
    "    # Create a completion\n",
    "    completion = client.chat.completions.create(\n",
    "        model=gptmodel,\n",
    "        temperature=0.3,\n",
    "        messages=[\n",
    "            {\"role\": \"user\", \"content\": prompt}\n",
    "        ]\n",
    "    )\n",
    "    \n",
    "    output_text = completion.choices[0].message.content\n",
    "    \n",
    "    return output_text"
   ]
  }
 ],
 "metadata": {
  "kernelspec": {
   "display_name": "Python 3 (ipykernel)",
   "language": "python",
   "name": "python3"
  },
  "language_info": {
   "codemirror_mode": {
    "name": "ipython",
    "version": 3
   },
   "file_extension": ".py",
   "mimetype": "text/x-python",
   "name": "python",
   "nbconvert_exporter": "python",
   "pygments_lexer": "ipython3",
   "version": "3.12.7"
  }
 },
 "nbformat": 4,
 "nbformat_minor": 5
}
