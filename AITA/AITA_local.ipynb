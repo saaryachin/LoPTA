{
 "cells": [
  {
   "cell_type": "code",
   "execution_count": null,
   "id": "711cb69c-5660-46cc-9628-57e1730e1a3e",
   "metadata": {
    "scrolled": true
   },
   "outputs": [],
   "source": [
    "import sys\n",
    "import os\n",
    "sys.path.append(os.path.abspath(\"..\"))\n",
    "import requests\n",
    "from AITA import AITA_utils\n",
    "\n",
    "def AIlocal(parsed_log_path, model, write_report=False):\n",
    "\n",
    "    try:\n",
    "        base_path = os.path.dirname(__file__)              # getting the file paths when running in CLI \n",
    "    except NameError:\n",
    "        base_path = os.getcwd()                            # getting the file paths when running in Jupyter Notebooks\n",
    "        \n",
    "        sys.path.append(os.path.join(base_path, 'parser'))\n",
    "        sys.path.append(os.path.join(base_path, 'AITA'))\n",
    "    prompt = AITA_utils.generate_prompt(parsed_log_path, write_report)\n",
    "    \n",
    "    response = requests.post(\n",
    "        \"http://localhost:11434/api/generate\",\n",
    "        json={\n",
    "            \"model\": model,\n",
    "            \"prompt\": prompt,\n",
    "            \"stream\": False,\n",
    "            \"options\": {\n",
    "            \"temperature\": 0.3\n",
    "            }\n",
    "        }\n",
    "    )\n",
    "    AITA_output = response.json()[\"response\"]\n",
    "    return AITA_output\n",
    "\n"
   ]
  }
 ],
 "metadata": {
  "kernelspec": {
   "display_name": "Python 3 (ipykernel)",
   "language": "python",
   "name": "python3"
  },
  "language_info": {
   "codemirror_mode": {
    "name": "ipython",
    "version": 3
   },
   "file_extension": ".py",
   "mimetype": "text/x-python",
   "name": "python",
   "nbconvert_exporter": "python",
   "pygments_lexer": "ipython3",
   "version": "3.12.7"
  }
 },
 "nbformat": 4,
 "nbformat_minor": 5
}
